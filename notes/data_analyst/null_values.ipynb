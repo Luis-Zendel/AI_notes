{
 "cells": [
  {
   "cell_type": "markdown",
   "metadata": {},
   "source": [
    "# ¿ Que hacer con los valores nulos encontrados en un Dataset ?"
   ]
  },
  {
   "cell_type": "markdown",
   "metadata": {},
   "source": [
    "Eventualmente, nos encontramos con datos nulos en un dataset. Existen diferentes formas de reemplazar estos datos para obtener un mejor análisis.\n",
    "\n",
    "## ¿Por qué es importante la corrección de datos nulos en un dataset?\n",
    "La presencia de valores nulos en un dataset representa un problema, ya que pueden generar modelos de machine learning poco confiables, provocar un análisis incorrecto o una mala predicción de datos. Tratar estos valores es fundamental para realizar un análisis correcto o, en su caso, crear modelos de machine learning óptimos.\n",
    "\n",
    "## ¿Cómo resolverlo?\n",
    "Específicamente, me gustaría abordar en este artículo qué tan óptimo es generar un modelo de regresión para predecir los datos faltantes dentro de un dataset.\n",
    "Para ello, es importante evaluar correctamente el dataset, considerando sus variables, y así determinar si es posible utilizar un modelo de regresión para estimar los valores faltantes.\n",
    "\n",
    "Como ejemplo, tomaremos el siguiente dataset:\n",
    "\n",
    "Stroke prediction dataset \n",
    "Context\n",
    "According to the World Health Organization (WHO) stroke is the 2nd leading cause of death globally, responsible for approximately 11% of total deaths.\n",
    "This dataset is used to predict whether a patient is likely to get stroke based on the input parameters like gender, age, various diseases, and smoking status. Each row in the data provides relavant information about the patient.\n",
    "\n",
    "Attribute Information\n",
    "1) id: unique identifier\n",
    "2) gender: \"Male\", \"Female\" or \"Other\"\n",
    "3) age: age of the patient\n",
    "4) hypertension: 0 if the patient doesn't have hypertension, 1 if the patient has hypertension\n",
    "5) heart_disease: 0 if the patient doesn't have any heart diseases, 1 if the patient has a heart disease\n",
    "6) ever_married: \"No\" or \"Yes\"\n",
    "7) work_type: \"children\", \"Govt_jov\", \"Never_worked\", \"Private\" or \"Self-employed\"\n",
    "8) Residence_type: \"Rural\" or \"Urban\"\n",
    "9) avg_glucose_level: average glucose level in blood\n",
    "10) bmi: body mass index\n",
    "11) smoking_status: \"formerly smoked\", \"never smoked\", \"smokes\" or \"Unknown\"*\n",
    "12) stroke: 1 if the patient had a stroke or 0 if not\n",
    "*Note: \"Unknown\" in smoking_status means that the information is unavailable for this patient\n",
    "\n",
    "Acknowledgements\n",
    "(Confidential Source) - Use only for educational purposes\n",
    "If you use this dataset in your research, please credit the author.\n",
    "\n",
    "\n",
    "\n"
   ]
  },
  {
   "cell_type": "markdown",
   "metadata": {},
   "source": [
    "## Primero pasos \n"
   ]
  },
  {
   "cell_type": "code",
   "execution_count": 6,
   "metadata": {},
   "outputs": [],
   "source": [
    "import pandas as pd\n",
    "import seaborn as sb\n",
    "import matplotlib.pyplot as plt\n",
    "import numpy as np\n",
    "\n",
    "\n",
    "\n",
    "# df_healthcare = pd.read_csv('./drive/MyDrive/ML/healthcare-dataset-stroke-data.csv')"
   ]
  },
  {
   "cell_type": "markdown",
   "metadata": {},
   "source": [
    "## Analisar valores nulos en variables \n"
   ]
  },
  {
   "cell_type": "code",
   "execution_count": null,
   "metadata": {},
   "outputs": [],
   "source": []
  },
  {
   "cell_type": "code",
   "execution_count": null,
   "metadata": {},
   "outputs": [],
   "source": [
    "df_healthcare.isnull().sum()\n"
   ]
  },
  {
   "cell_type": "code",
   "execution_count": null,
   "metadata": {},
   "outputs": [],
   "source": [
    "df_healthcare.describe()"
   ]
  },
  {
   "cell_type": "markdown",
   "metadata": {},
   "source": []
  },
  {
   "cell_type": "markdown",
   "metadata": {},
   "source": [
    "Antes de continuar hagamos un analisis sobre el data set seleccionado.\n",
    "Este conjunto de datos es útil para investigaciones y análisis enfocados en la predicción de accidentes cerebrovasculares mediante técnicas de aprendizaje automático. Al considerar factores como la edad, enfermedades preexistentes, hábitos de vida y características demográficas, puede apoyar estudios médicos y educativos sobre prevención de ACV.\n",
    "\n",
    "\n",
    "Estás desarrollando un proyecto para evaluar la viabilidad de implementar un sistema de predicción basado en un modelo de regresión. Este sistema tendría como objetivo rellenar valores nulos en el dataset, analizando las demás variables y utilizando los registros completos para estimar los valores faltantes de forma precisa.\n",
    "\n",
    "## Análisis y viabilidad del sistema:\n",
    "Cantidad de valores nulos:\n",
    "La utilidad del sistema depende directamente de cuántos valores nulos haya en el dataset y en qué columnas se encuentran. Si los valores nulos están concentrados en una o dos columnas clave (por ejemplo, bmi o avg_glucose_level), un modelo de regresión puede ser útil. Sin embargo, si hay muchos valores nulos dispersos, esto puede afectar negativamente la capacidad de generalización del modelo.\n"
   ]
  }
 ],
 "metadata": {
  "kernelspec": {
   "display_name": "Python 3",
   "language": "python",
   "name": "python3"
  },
  "language_info": {
   "codemirror_mode": {
    "name": "ipython",
    "version": 3
   },
   "file_extension": ".py",
   "mimetype": "text/x-python",
   "name": "python",
   "nbconvert_exporter": "python",
   "pygments_lexer": "ipython3",
   "version": "3.12.1"
  }
 },
 "nbformat": 4,
 "nbformat_minor": 2
}
